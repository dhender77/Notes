{
  "nbformat": 4,
  "nbformat_minor": 0,
  "metadata": {
    "colab": {
      "provenance": [],
      "include_colab_link": true
    },
    "kernelspec": {
      "name": "python3",
      "display_name": "Python 3"
    },
    "language_info": {
      "name": "python"
    },
    "accelerator": "GPU",
    "gpuClass": "standard"
  },
  "cells": [
    {
      "cell_type": "markdown",
      "metadata": {
        "id": "view-in-github",
        "colab_type": "text"
      },
      "source": [
        "<a href=\"https://colab.research.google.com/github/dhender77/Notes/blob/main/Day10_Artificial_Neural_Networks.ipynb\" target=\"_parent\"><img src=\"https://colab.research.google.com/assets/colab-badge.svg\" alt=\"Open In Colab\"/></a>"
      ]
    },
    {
      "cell_type": "markdown",
      "source": [
        "# Day10 Artificial Neural Networks\n",
        "\n",
        "We're going to start off by using sklearn MLP to implement a multilayer perceptron, and then we're going to use a deep learning framework, Tensorflow with Keras to build a neural network.\n",
        "\n",
        "__Documentation__: \n",
        "- [`sklearn.neural_network.MLPClassifier()`](https://scikit-learn.org/stable/modules/generated/sklearn.neural_network.MLPClassifier.html#sklearn.neural_network.MLPClassifier)\n",
        "- [`sklearn.neural_network.MLPRegressor()`](https://scikit-learn.org/stable/modules/generated/sklearn.neural_network.MLPRegressor.html#sklearn.neural_network.MLPRegressor)"
      ],
      "metadata": {
        "id": "3AOXKHiAmVLd"
      }
    },
    {
      "cell_type": "markdown",
      "source": [
        "## Data Preparation\n",
        "- Mount Drive\n",
        "- Load in `irisData.csv`\n",
        "- use `train_test_split` to split data \n",
        "- normalize using `slkearn.preprocessing.StandardScaler`"
      ],
      "metadata": {
        "id": "WdrdO_Q8m-od"
      }
    },
    {
      "cell_type": "code",
      "execution_count": 1,
      "metadata": {
        "colab": {
          "base_uri": "https://localhost:8080/"
        },
        "id": "S4W-mCCqmFNl",
        "outputId": "ce5f7ec6-2dbc-4abd-bc92-183ae0c474cd"
      },
      "outputs": [
        {
          "output_type": "stream",
          "name": "stdout",
          "text": [
            "Mounted at /content/drive\n"
          ]
        }
      ],
      "source": [
        "from google.colab import drive\n",
        "import pandas\n",
        "drive.mount('/content/drive')"
      ]
    },
    {
      "cell_type": "code",
      "source": [
        "data = pandas.read_csv('/content/drive/MyDrive/CS 167/irisData.csv')\n",
        "data.head()"
      ],
      "metadata": {
        "colab": {
          "base_uri": "https://localhost:8080/",
          "height": 206
        },
        "id": "fVh_OIQ4mPd_",
        "outputId": "0dcee32b-3bb5-4947-d257-a2086c7af617"
      },
      "execution_count": 2,
      "outputs": [
        {
          "output_type": "execute_result",
          "data": {
            "text/plain": [
              "   sepal length  sepal width  petal length  petal width      species\n",
              "0           5.1          3.5           1.4          0.2  Iris-setosa\n",
              "1           4.9          3.0           1.4          0.2  Iris-setosa\n",
              "2           4.7          3.2           1.3          0.2  Iris-setosa\n",
              "3           4.6          3.1           1.5          0.2  Iris-setosa\n",
              "4           5.0          3.6           1.4          0.2  Iris-setosa"
            ],
            "text/html": [
              "\n",
              "  <div id=\"df-e2f44f33-1f9c-48d5-a412-68aad29b9dc5\">\n",
              "    <div class=\"colab-df-container\">\n",
              "      <div>\n",
              "<style scoped>\n",
              "    .dataframe tbody tr th:only-of-type {\n",
              "        vertical-align: middle;\n",
              "    }\n",
              "\n",
              "    .dataframe tbody tr th {\n",
              "        vertical-align: top;\n",
              "    }\n",
              "\n",
              "    .dataframe thead th {\n",
              "        text-align: right;\n",
              "    }\n",
              "</style>\n",
              "<table border=\"1\" class=\"dataframe\">\n",
              "  <thead>\n",
              "    <tr style=\"text-align: right;\">\n",
              "      <th></th>\n",
              "      <th>sepal length</th>\n",
              "      <th>sepal width</th>\n",
              "      <th>petal length</th>\n",
              "      <th>petal width</th>\n",
              "      <th>species</th>\n",
              "    </tr>\n",
              "  </thead>\n",
              "  <tbody>\n",
              "    <tr>\n",
              "      <th>0</th>\n",
              "      <td>5.1</td>\n",
              "      <td>3.5</td>\n",
              "      <td>1.4</td>\n",
              "      <td>0.2</td>\n",
              "      <td>Iris-setosa</td>\n",
              "    </tr>\n",
              "    <tr>\n",
              "      <th>1</th>\n",
              "      <td>4.9</td>\n",
              "      <td>3.0</td>\n",
              "      <td>1.4</td>\n",
              "      <td>0.2</td>\n",
              "      <td>Iris-setosa</td>\n",
              "    </tr>\n",
              "    <tr>\n",
              "      <th>2</th>\n",
              "      <td>4.7</td>\n",
              "      <td>3.2</td>\n",
              "      <td>1.3</td>\n",
              "      <td>0.2</td>\n",
              "      <td>Iris-setosa</td>\n",
              "    </tr>\n",
              "    <tr>\n",
              "      <th>3</th>\n",
              "      <td>4.6</td>\n",
              "      <td>3.1</td>\n",
              "      <td>1.5</td>\n",
              "      <td>0.2</td>\n",
              "      <td>Iris-setosa</td>\n",
              "    </tr>\n",
              "    <tr>\n",
              "      <th>4</th>\n",
              "      <td>5.0</td>\n",
              "      <td>3.6</td>\n",
              "      <td>1.4</td>\n",
              "      <td>0.2</td>\n",
              "      <td>Iris-setosa</td>\n",
              "    </tr>\n",
              "  </tbody>\n",
              "</table>\n",
              "</div>\n",
              "      <button class=\"colab-df-convert\" onclick=\"convertToInteractive('df-e2f44f33-1f9c-48d5-a412-68aad29b9dc5')\"\n",
              "              title=\"Convert this dataframe to an interactive table.\"\n",
              "              style=\"display:none;\">\n",
              "        \n",
              "  <svg xmlns=\"http://www.w3.org/2000/svg\" height=\"24px\"viewBox=\"0 0 24 24\"\n",
              "       width=\"24px\">\n",
              "    <path d=\"M0 0h24v24H0V0z\" fill=\"none\"/>\n",
              "    <path d=\"M18.56 5.44l.94 2.06.94-2.06 2.06-.94-2.06-.94-.94-2.06-.94 2.06-2.06.94zm-11 1L8.5 8.5l.94-2.06 2.06-.94-2.06-.94L8.5 2.5l-.94 2.06-2.06.94zm10 10l.94 2.06.94-2.06 2.06-.94-2.06-.94-.94-2.06-.94 2.06-2.06.94z\"/><path d=\"M17.41 7.96l-1.37-1.37c-.4-.4-.92-.59-1.43-.59-.52 0-1.04.2-1.43.59L10.3 9.45l-7.72 7.72c-.78.78-.78 2.05 0 2.83L4 21.41c.39.39.9.59 1.41.59.51 0 1.02-.2 1.41-.59l7.78-7.78 2.81-2.81c.8-.78.8-2.07 0-2.86zM5.41 20L4 18.59l7.72-7.72 1.47 1.35L5.41 20z\"/>\n",
              "  </svg>\n",
              "      </button>\n",
              "      \n",
              "  <style>\n",
              "    .colab-df-container {\n",
              "      display:flex;\n",
              "      flex-wrap:wrap;\n",
              "      gap: 12px;\n",
              "    }\n",
              "\n",
              "    .colab-df-convert {\n",
              "      background-color: #E8F0FE;\n",
              "      border: none;\n",
              "      border-radius: 50%;\n",
              "      cursor: pointer;\n",
              "      display: none;\n",
              "      fill: #1967D2;\n",
              "      height: 32px;\n",
              "      padding: 0 0 0 0;\n",
              "      width: 32px;\n",
              "    }\n",
              "\n",
              "    .colab-df-convert:hover {\n",
              "      background-color: #E2EBFA;\n",
              "      box-shadow: 0px 1px 2px rgba(60, 64, 67, 0.3), 0px 1px 3px 1px rgba(60, 64, 67, 0.15);\n",
              "      fill: #174EA6;\n",
              "    }\n",
              "\n",
              "    [theme=dark] .colab-df-convert {\n",
              "      background-color: #3B4455;\n",
              "      fill: #D2E3FC;\n",
              "    }\n",
              "\n",
              "    [theme=dark] .colab-df-convert:hover {\n",
              "      background-color: #434B5C;\n",
              "      box-shadow: 0px 1px 3px 1px rgba(0, 0, 0, 0.15);\n",
              "      filter: drop-shadow(0px 1px 2px rgba(0, 0, 0, 0.3));\n",
              "      fill: #FFFFFF;\n",
              "    }\n",
              "  </style>\n",
              "\n",
              "      <script>\n",
              "        const buttonEl =\n",
              "          document.querySelector('#df-e2f44f33-1f9c-48d5-a412-68aad29b9dc5 button.colab-df-convert');\n",
              "        buttonEl.style.display =\n",
              "          google.colab.kernel.accessAllowed ? 'block' : 'none';\n",
              "\n",
              "        async function convertToInteractive(key) {\n",
              "          const element = document.querySelector('#df-e2f44f33-1f9c-48d5-a412-68aad29b9dc5');\n",
              "          const dataTable =\n",
              "            await google.colab.kernel.invokeFunction('convertToInteractive',\n",
              "                                                     [key], {});\n",
              "          if (!dataTable) return;\n",
              "\n",
              "          const docLinkHtml = 'Like what you see? Visit the ' +\n",
              "            '<a target=\"_blank\" href=https://colab.research.google.com/notebooks/data_table.ipynb>data table notebook</a>'\n",
              "            + ' to learn more about interactive tables.';\n",
              "          element.innerHTML = '';\n",
              "          dataTable['output_type'] = 'display_data';\n",
              "          await google.colab.output.renderOutput(dataTable, element);\n",
              "          const docLink = document.createElement('div');\n",
              "          docLink.innerHTML = docLinkHtml;\n",
              "          element.appendChild(docLink);\n",
              "        }\n",
              "      </script>\n",
              "    </div>\n",
              "  </div>\n",
              "  "
            ]
          },
          "metadata": {},
          "execution_count": 2
        }
      ]
    },
    {
      "cell_type": "code",
      "source": [
        "import pandas\n",
        "import numpy\n",
        "from sklearn.model_selection import train_test_split\n",
        "\n",
        "#Split the dataset\n",
        "predictors = data.columns.drop('species')\n",
        "target = \"species\"\n",
        "train_data, test_data, train_sln, test_sln = train_test_split(data[predictors], data[target], test_size = 0.2, random_state=41)\n",
        "\n",
        "#Normalize Data\n",
        "from sklearn.preprocessing import StandardScaler\n",
        "scaler = StandardScaler()\n",
        "scaler.fit(train_data)\n",
        "train_data_norm = scaler.transform(train_data)\n",
        "test_data_norm = scaler.transform(test_data)"
      ],
      "metadata": {
        "id": "HXoWH_gsm5xu"
      },
      "execution_count": 3,
      "outputs": []
    },
    {
      "cell_type": "markdown",
      "source": [
        "## Build a MLP using `sklearn`"
      ],
      "metadata": {
        "id": "_0-LG-vRnTWA"
      }
    },
    {
      "cell_type": "code",
      "source": [
        "# Set up MLP\n",
        "from sklearn.neural_network import MLPClassifier\n",
        "from sklearn import metrics\n",
        "from sklearn.metrics import confusion_matrix, ConfusionMatrixDisplay\n",
        "import matplotlib.pyplot as plt\n",
        "\n",
        "mlp = MLPClassifier(random_state=0,hidden_layer_sizes = (100,), max_iter = 800)\n",
        "mlp.fit(train_data_norm,train_sln)\n",
        "predictions = mlp.predict(test_data_norm)\n",
        "\n",
        "print(\"Accuracy: \", metrics.accuracy_score(test_sln,predictions))\n",
        "\n",
        "# Confusion Matrix\n",
        "vals = data[target].unique() ## possible classification values (species)\n",
        "conf_mat = metrics.confusion_matrix(test_sln, predictions, labels=vals)\n",
        "\n",
        "#print(pandas.DataFrame(conf_mat, index = \"True \" + vals, columns = \"Pre \" + vals))\n",
        "\n",
        "disp = ConfusionMatrixDisplay(confusion_matrix=conf_mat,display_labels=mlp.classes_)\n",
        "disp.plot()\n",
        "plt.show()"
      ],
      "metadata": {
        "colab": {
          "base_uri": "https://localhost:8080/",
          "height": 300
        },
        "id": "TitomiUrm7a8",
        "outputId": "90b3eebb-fc0c-4b94-d5cb-08884268cc3d"
      },
      "execution_count": 4,
      "outputs": [
        {
          "output_type": "stream",
          "name": "stdout",
          "text": [
            "Accuracy:  0.9\n"
          ]
        },
        {
          "output_type": "display_data",
          "data": {
            "text/plain": [
              "<Figure size 432x288 with 2 Axes>"
            ],
            "image/png": "[encoded data removed]"
          },
          "metadata": {
            "needs_background": "light"
          }
        }
      ]
    },
    {
      "cell_type": "markdown",
      "source": [
        "## In-Class Exercise #1:\n",
        "\n",
        "1. Read in the Boston Housing dataset\n",
        "2. Normalize your data\n",
        "3. Use a [MLPRegressor](https://scikit-learn.org/stable/modules/generated/sklearn.neural_network.MLPRegressor.html) to predict the price of a house 'MEDV'\n",
        "4. Play around with changing the parameters, see what the best R2 score you can get is. "
      ],
      "metadata": {
        "id": "XU6W48v3n6a5"
      }
    },
    {
      "cell_type": "code",
      "source": [
        "# Your code goes here for the In-Class Exercise\n",
        "# 1. Read in the Boston Housing dataset\n",
        "import pandas\n",
        "housing_data = pandas.read_csv('/content/drive/MyDrive/CS 167/boston_housing.csv') \n",
        "\n",
        "# clean the data\n",
        "housing_data['CRIM'].fillna(housing_data['CRIM'].mean(),inplace=True)\n",
        "housing_data['ZN'].fillna(housing_data['ZN'].mean(),inplace=True)\n",
        "housing_data['INDUS'].fillna(housing_data['INDUS'].mean(),inplace=True)\n",
        "housing_data['CHAS'].fillna(housing_data['CHAS'].mean(),inplace=True)\n",
        "housing_data['AGE'].fillna(housing_data['AGE'].mean(),inplace=True)\n",
        "housing_data['LSTAT'].fillna(housing_data['LSTAT'].mean(),inplace=True)\n",
        "\n",
        "#Split the dataset\n",
        "predictors = housing_data.columns.drop('MEDV')\n",
        "target = \"MEDV\"\n",
        "train_data, test_data, train_sln, test_sln = train_test_split(housing_data[predictors], housing_data[target], test_size = 0.2, random_state=0)\n"
      ],
      "metadata": {
        "id": "mwjR4p5OnZw2"
      },
      "execution_count": 5,
      "outputs": []
    },
    {
      "cell_type": "code",
      "source": [
        "#2. Normalize the data\n",
        "from sklearn.preprocessing import StandardScaler\n",
        "scaler = StandardScaler()\n",
        "scaler.fit(train_data)\n",
        "train_data_norm = scaler.transform(train_data)\n",
        "test_data_norm = scaler.transform(test_data)"
      ],
      "metadata": {
        "id": "9oRUdXmOoDw5"
      },
      "execution_count": 6,
      "outputs": []
    },
    {
      "cell_type": "code",
      "source": [
        "#3. Use a MLPRegressor to predict the price of a house 'MEDV'\n",
        "from sklearn.neural_network import MLPRegressor\n",
        "from sklearn import metrics\n",
        "\n",
        "mlp = MLPRegressor(random_state=0,hidden_layer_sizes = (100,), max_iter = 800)\n",
        "mlp.fit(train_data_norm,train_sln)\n",
        "predictions = mlp.predict(test_data_norm)\n",
        "\n",
        "print(\"R2: \", metrics.r2_score(test_sln,predictions))\n",
        "\n",
        "\n"
      ],
      "metadata": {
        "id": "y--pDP_LoJES",
        "colab": {
          "base_uri": "https://localhost:8080/"
        },
        "outputId": "ed468d0a-5c7c-4d04-fad9-460860403832"
      },
      "execution_count": 7,
      "outputs": [
        {
          "output_type": "stream",
          "name": "stdout",
          "text": [
            "R2:  0.6981778639733168\n"
          ]
        }
      ]
    },
    {
      "cell_type": "code",
      "source": [
        "#4. Play around with the parameters"
      ],
      "metadata": {
        "id": "VzJjXtUKoVsy"
      },
      "execution_count": null,
      "outputs": []
    },
    {
      "cell_type": "markdown",
      "source": [
        "# Introducing Deep Learning Frameworks\n",
        "\n",
        "Go ahead and go up to 'Runtime', and select 'change runtime type' from the dropdown list, select 'GPU'. If you complete this step correctly, the following code should say `Found GPU at: /device:GPU:0` or something similar."
      ],
      "metadata": {
        "id": "BnifibodoYy4"
      }
    },
    {
      "cell_type": "code",
      "source": [
        "import tensorflow as tf\n",
        "device_name = tf.test.gpu_device_name()\n",
        "if device_name != '/device:GPU:0':\n",
        "  raise SystemError('GPU device not found')\n",
        "print('Found GPU at: {}'.format(device_name))"
      ],
      "metadata": {
        "colab": {
          "base_uri": "https://localhost:8080/"
        },
        "id": "VPr2BFJjoXHP",
        "outputId": "703b5a3c-0373-4103-f26c-3603bb4103da"
      },
      "execution_count": 8,
      "outputs": [
        {
          "output_type": "stream",
          "name": "stdout",
          "text": [
            "Found GPU at: /device:GPU:0\n"
          ]
        }
      ]
    },
    {
      "cell_type": "markdown",
      "source": [
        "# Iris Dataset with Keras"
      ],
      "metadata": {
        "id": "j2hk43HFohZi"
      }
    },
    {
      "cell_type": "code",
      "source": [
        "import warnings\n",
        "warnings.simplefilter(action='ignore', category=FutureWarning)\n",
        "warnings.simplefilter(action='ignore', category=DeprecationWarning)\n",
        "\n",
        "from keras.models import Sequential\n",
        "from keras.layers import Dense\n",
        "\n",
        "from sklearn.datasets import load_iris\n",
        "from sklearn.model_selection import train_test_split\n",
        "from sklearn.preprocessing import OneHotEncoder, StandardScaler\n",
        "import numpy\n",
        "\n",
        "# we're going to use the iris dataset, but load it from sklearn \n",
        "iris = load_iris()\n",
        "X = iris['data']\n",
        "y = iris['target']\n",
        "names = iris['target_names']\n",
        "feature_names = iris['feature_names']\n",
        "\n",
        "# One hot encoding\n",
        "enc = OneHotEncoder()\n",
        "Y = enc.fit_transform(y[:, numpy.newaxis]).toarray()\n",
        "\n",
        "# Split the data set into training and testing\n",
        "X_train, X_test, Y_train, Y_test = train_test_split(X, Y, test_size=0.2, random_state=2)\n",
        "\n",
        "#normalize the data\n",
        "scaler = StandardScaler()\n",
        "scaler.fit(X_train)\n",
        "X_train_norm = scaler.transform(X_train)\n",
        "X_test_norm = scaler.transform(X_test)"
      ],
      "metadata": {
        "id": "gdE9zJcxofRT"
      },
      "execution_count": 9,
      "outputs": []
    },
    {
      "cell_type": "code",
      "source": [
        "# display a row of data\n",
        "print(X_train_norm[0,:])\n",
        "print(Y_train[0,:])"
      ],
      "metadata": {
        "colab": {
          "base_uri": "https://localhost:8080/"
        },
        "id": "yD2jLOLWomXh",
        "outputId": "d77db745-0404-4e0e-eb27-3fce77ea7b83"
      },
      "execution_count": 10,
      "outputs": [
        {
          "output_type": "stream",
          "name": "stdout",
          "text": [
            "[ 0.37346331 -0.58519388  0.54075378  0.74234434]\n",
            "[0. 0. 1.]\n"
          ]
        }
      ]
    },
    {
      "cell_type": "code",
      "source": [
        "#build our neural network model\n",
        "n_features = X.shape[1] #X generally stands for our predictors\n",
        "n_classes = Y.shape[1] #Y generally stands for our target\n",
        "\n",
        "model = Sequential(name='iris_1')\n",
        "model.add(Dense(2, input_dim=n_features, activation='relu'))\n",
        "model.add(Dense(2, activation='relu'))\n",
        "model.add(Dense(n_classes, activation='softmax'))\n",
        "\n",
        "from sklearn.metrics import r2_score\n",
        "\n",
        "# Compile model\n",
        "model.compile(loss='mean_squared_error',\n",
        "              optimizer='sgd', \n",
        "              metrics=['accuracy'])\n",
        "model.summary()"
      ],
      "metadata": {
        "colab": {
          "base_uri": "https://localhost:8080/"
        },
        "id": "SV_iL0VropGm",
        "outputId": "22089d1f-4d26-451a-b001-39044faeb087"
      },
      "execution_count": 12,
      "outputs": [
        {
          "output_type": "stream",
          "name": "stdout",
          "text": [
            "Model: \"iris_1\"\n",
            "_________________________________________________________________\n",
            " Layer (type)                Output Shape              Param #   \n",
            "=================================================================\n",
            " dense_3 (Dense)             (None, 2)                 10        \n",
            "                                                                 \n",
            " dense_4 (Dense)             (None, 2)                 6         \n",
            "                                                                 \n",
            " dense_5 (Dense)             (None, 3)                 9         \n",
            "                                                                 \n",
            "=================================================================\n",
            "Total params: 25\n",
            "Trainable params: 25\n",
            "Non-trainable params: 0\n",
            "_________________________________________________________________\n"
          ]
        }
      ]
    },
    {
      "cell_type": "markdown",
      "source": [
        "## Keras Documentation: \n",
        "https://keras.io/api/models/model_training_apis/ "
      ],
      "metadata": {
        "id": "yrfvgXS8ouMC"
      }
    },
    {
      "cell_type": "code",
      "source": [
        "# train the model\n",
        "history = model.fit(X_train_norm, Y_train, validation_split=0.2, batch_size=15, epochs=10) #add verbose = 0 to make output minimal\n",
        "\n",
        "# cross-validation; make predictions and get error\n",
        "print(\"----\"*30)\n",
        "mse, acc =  model.evaluate(X_test_norm, Y_test)\n",
        "print('Mean Squared Error:',mse)\n",
        "print('Test accuracy:', acc)"
      ],
      "metadata": {
        "colab": {
          "base_uri": "https://localhost:8080/"
        },
        "id": "mHAWFcvYorNP",
        "outputId": "7a49a529-2b5c-4286-a630-db68eddfb944"
      },
      "execution_count": 13,
      "outputs": [
        {
          "output_type": "stream",
          "name": "stdout",
          "text": [
            "Epoch 1/10\n",
            "7/7 [==============================] - 3s 27ms/step - loss: 0.2067 - accuracy: 0.4375 - val_loss: 0.2104 - val_accuracy: 0.3333\n",
            "Epoch 2/10\n",
            "7/7 [==============================] - 0s 6ms/step - loss: 0.2061 - accuracy: 0.4271 - val_loss: 0.2099 - val_accuracy: 0.3333\n",
            "Epoch 3/10\n",
            "7/7 [==============================] - 0s 6ms/step - loss: 0.2056 - accuracy: 0.4479 - val_loss: 0.2095 - val_accuracy: 0.3333\n",
            "Epoch 4/10\n",
            "7/7 [==============================] - 0s 6ms/step - loss: 0.2051 - accuracy: 0.4583 - val_loss: 0.2090 - val_accuracy: 0.3333\n",
            "Epoch 5/10\n",
            "7/7 [==============================] - 0s 5ms/step - loss: 0.2045 - accuracy: 0.4583 - val_loss: 0.2085 - val_accuracy: 0.3333\n",
            "Epoch 6/10\n",
            "7/7 [==============================] - 0s 6ms/step - loss: 0.2040 - accuracy: 0.4583 - val_loss: 0.2080 - val_accuracy: 0.3333\n",
            "Epoch 7/10\n",
            "7/7 [==============================] - 0s 6ms/step - loss: 0.2034 - accuracy: 0.4583 - val_loss: 0.2075 - val_accuracy: 0.3333\n",
            "Epoch 8/10\n",
            "7/7 [==============================] - 0s 7ms/step - loss: 0.2029 - accuracy: 0.4583 - val_loss: 0.2071 - val_accuracy: 0.3333\n",
            "Epoch 9/10\n",
            "7/7 [==============================] - 0s 6ms/step - loss: 0.2024 - accuracy: 0.4583 - val_loss: 0.2066 - val_accuracy: 0.3333\n",
            "Epoch 10/10\n",
            "7/7 [==============================] - 0s 6ms/step - loss: 0.2019 - accuracy: 0.4583 - val_loss: 0.2062 - val_accuracy: 0.3333\n",
            "------------------------------------------------------------------------------------------------------------------------\n",
            "1/1 [==============================] - 0s 18ms/step - loss: 0.2093 - accuracy: 0.2667\n",
            "Mean Squared Error: 0.20929555594921112\n",
            "Test accuracy: 0.2666666805744171\n"
          ]
        }
      ]
    },
    {
      "cell_type": "markdown",
      "source": [
        "## 👀 Take a closer look: "
      ],
      "metadata": {
        "id": "BpHaTH9gt_01"
      }
    },
    {
      "cell_type": "code",
      "source": [
        "import keras\n",
        "from matplotlib import pyplot as plt\n",
        "plt.plot(history.history['accuracy'])\n",
        "plt.plot(history.history['val_accuracy'])\n",
        "plt.title('model accuracy')\n",
        "plt.ylabel('accuracy')\n",
        "plt.xlabel('epoch')\n",
        "plt.legend(['train', 'val'])\n",
        "plt.show()"
      ],
      "metadata": {
        "colab": {
          "base_uri": "https://localhost:8080/",
          "height": 295
        },
        "id": "VFmdQBRwsJ9k",
        "outputId": "515ec893-4adb-4168-f4b7-f8ed69c5b566"
      },
      "execution_count": 14,
      "outputs": [
        {
          "output_type": "display_data",
          "data": {
            "text/plain": [
              "<Figure size 432x288 with 1 Axes>"
            ],
            "image/png": "[encoded data removed]"
          },
          "metadata": {
            "needs_background": "light"
          }
        }
      ]
    },
    {
      "cell_type": "code",
      "source": [
        "plt.plot(history.history['loss'])\n",
        "plt.plot(history.history['val_loss'])\n",
        "plt.title('model loss')\n",
        "plt.ylabel('loss')\n",
        "plt.xlabel('epoch')\n",
        "plt.legend(['train', 'val'])\n",
        "plt.show()"
      ],
      "metadata": {
        "colab": {
          "base_uri": "https://localhost:8080/",
          "height": 295
        },
        "id": "RkWoCtSZt5B6",
        "outputId": "ad2f4280-968f-4217-9ec9-d2781f80bac3"
      },
      "execution_count": 15,
      "outputs": [
        {
          "output_type": "display_data",
          "data": {
            "text/plain": [
              "<Figure size 432x288 with 1 Axes>"
            ],
            "image/png": "[encoded data removed]"
          },
          "metadata": {
            "needs_background": "light"
          }
        }
      ]
    },
    {
      "cell_type": "markdown",
      "source": [
        "# Boston Housing Dataset with Keras"
      ],
      "metadata": {
        "id": "iWxhMrpYo6MC"
      }
    },
    {
      "cell_type": "code",
      "source": [
        "from keras.datasets import boston_housing\n",
        "\n",
        "# we're going to use the Bosting housing dataset, but load it from keras \n",
        "housing_data = boston_housing.load_data(test_split=0.2) #it comes with it's own test/train split :) \n",
        "(X_train, Y_train), (X_test, Y_test) = housing_data"
      ],
      "metadata": {
        "id": "mPniBtLFo2Q9",
        "colab": {
          "base_uri": "https://localhost:8080/"
        },
        "outputId": "41e6a073-ed88-4b38-ba21-807af50bc861"
      },
      "execution_count": 16,
      "outputs": [
        {
          "output_type": "stream",
          "name": "stdout",
          "text": [
            "Downloading data from https://storage.googleapis.com/tensorflow/tf-keras-datasets/boston_housing.npz\n",
            "57026/57026 [==============================] - 0s 0us/step\n"
          ]
        }
      ]
    },
    {
      "cell_type": "code",
      "source": [
        "# normalize the data\n",
        "scaler = StandardScaler()\n",
        "scaler.fit(X_train)\n",
        "X_train_norm = scaler.transform(X_train)\n",
        "X_test_norm = scaler.transform(X_test)"
      ],
      "metadata": {
        "id": "jzi3HCJ9o9qV"
      },
      "execution_count": 17,
      "outputs": []
    },
    {
      "cell_type": "code",
      "source": [
        "### need to execute this to get access to RSquare function\n",
        "!pip install tensorflow_addons"
      ],
      "metadata": {
        "colab": {
          "base_uri": "https://localhost:8080/"
        },
        "id": "DFHGeYbZo_PO",
        "outputId": "4f44b687-be84-4e64-b071-8d76bc5cc585"
      },
      "execution_count": 18,
      "outputs": [
        {
          "output_type": "stream",
          "name": "stdout",
          "text": [
            "Looking in indexes: https://pypi.org/simple, https://us-python.pkg.dev/colab-wheels/public/simple/\n",
            "Collecting tensorflow_addons\n",
            "  Downloading tensorflow_addons-0.19.0-cp38-cp38-manylinux_2_17_x86_64.manylinux2014_x86_64.whl (1.1 MB)\n",
            "\u001b[2K     \u001b[90m━━━━━━━━━━━━━━━━━━━━━━━━━━━━━━━━━━━━━━━━\u001b[0m \u001b[32m1.1/1.1 MB\u001b[0m \u001b[31m33.3 MB/s\u001b[0m eta \u001b[36m0:00:00\u001b[0m\n",
            "\u001b[?25hRequirement already satisfied: typeguard>=2.7 in /usr/local/lib/python3.8/dist-packages (from tensorflow_addons) (2.7.1)\n",
            "Requirement already satisfied: packaging in /usr/local/lib/python3.8/dist-packages (from tensorflow_addons) (21.3)\n",
            "Requirement already satisfied: pyparsing!=3.0.5,>=2.0.2 in /usr/local/lib/python3.8/dist-packages (from packaging->tensorflow_addons) (3.0.9)\n",
            "Installing collected packages: tensorflow_addons\n",
            "Successfully installed tensorflow_addons-0.19.0\n"
          ]
        }
      ]
    },
    {
      "cell_type": "code",
      "source": [
        "from keras import models\n",
        "from keras import layers\n",
        "\n",
        "from tensorflow_addons.metrics import RSquare\n",
        "\n",
        "#build our model\n",
        "n_features = X_train.shape[1] # get the number of input values for the input layer\n",
        "\n",
        "model = Sequential(name='boston_housing1')   #initialize the model\n",
        "\n",
        "#add some layers. Dense is a fully connected layer\n",
        "model.add(layers.Dense(64, input_dim= n_features, activation='relu'))\n",
        "model.add(layers.Dense(64, activation='relu'))\n",
        "\n",
        "#Since we are doing a regressions, we only want one value as an ouput, so our last layer has a Dense layer with 1 neuron.\n",
        "model.add(layers.Dense(1)) #default activation function is \"linear\"\n",
        "\n",
        "from sklearn.metrics import r2_score\n",
        "# Compile model\n",
        "model.compile(loss='mean_squared_error',\n",
        "              optimizer='sgd', \n",
        "              metrics= RSquare()) #tf.keras.losses.MeanSquaredError()\n",
        "model.summary()"
      ],
      "metadata": {
        "colab": {
          "base_uri": "https://localhost:8080/"
        },
        "id": "CwlPcyl0pA9Q",
        "outputId": "636598ca-3f24-4837-8961-4178824d6f89"
      },
      "execution_count": 19,
      "outputs": [
        {
          "output_type": "stream",
          "name": "stdout",
          "text": [
            "Model: \"boston_housing1\"\n",
            "_________________________________________________________________\n",
            " Layer (type)                Output Shape              Param #   \n",
            "=================================================================\n",
            " dense_6 (Dense)             (None, 64)                896       \n",
            "                                                                 \n",
            " dense_7 (Dense)             (None, 64)                4160      \n",
            "                                                                 \n",
            " dense_8 (Dense)             (None, 1)                 65        \n",
            "                                                                 \n",
            "=================================================================\n",
            "Total params: 5,121\n",
            "Trainable params: 5,121\n",
            "Non-trainable params: 0\n",
            "_________________________________________________________________\n"
          ]
        }
      ]
    },
    {
      "cell_type": "code",
      "source": [
        "# train the model\n",
        "history = model.fit(X_train_norm, Y_train, epochs=50, validation_split=0.1, batch_size=15, verbose=1)\n",
        "\n",
        "print(\"----\"*30)\n",
        "\n",
        "# cross-validation; make predictions and get error\n",
        "test_mse_score, test_r2_score = model.evaluate(X_test_norm, Y_test)\n",
        "print('MSE:', test_mse_score)\n",
        "print('r2:', test_r2_score)"
      ],
      "metadata": {
        "colab": {
          "base_uri": "https://localhost:8080/"
        },
        "id": "5O0CcVhepDnx",
        "outputId": "b4ac2f71-ddf0-491b-8bb6-75ccaf81748d"
      },
      "execution_count": 20,
      "outputs": [
        {
          "output_type": "stream",
          "name": "stdout",
          "text": [
            "Epoch 1/50\n",
            "25/25 [==============================] - 1s 10ms/step - loss: 322.3626 - r_square: -2.6114 - val_loss: 95.9466 - val_r_square: -1.2481\n",
            "Epoch 2/50\n",
            "25/25 [==============================] - 0s 4ms/step - loss: 281.0525 - r_square: -2.1486 - val_loss: 57.0500 - val_r_square: -0.3367\n",
            "Epoch 3/50\n",
            "25/25 [==============================] - 0s 3ms/step - loss: 85.8849 - r_square: 0.0378 - val_loss: 99.7300 - val_r_square: -1.3367\n",
            "Epoch 4/50\n",
            "25/25 [==============================] - 0s 8ms/step - loss: 43.3491 - r_square: 0.5144 - val_loss: 10.5530 - val_r_square: 0.7527\n",
            "Epoch 5/50\n",
            "25/25 [==============================] - 0s 8ms/step - loss: 41.1921 - r_square: 0.5385 - val_loss: 19.4442 - val_r_square: 0.5444\n",
            "Epoch 6/50\n",
            "25/25 [==============================] - 0s 7ms/step - loss: 19.3375 - r_square: 0.7834 - val_loss: 93.7015 - val_r_square: -1.1955\n",
            "Epoch 7/50\n",
            "25/25 [==============================] - 0s 7ms/step - loss: 27.2144 - r_square: 0.6951 - val_loss: 69.9713 - val_r_square: -0.6395\n",
            "Epoch 8/50\n",
            "25/25 [==============================] - 0s 7ms/step - loss: 46.2774 - r_square: 0.4816 - val_loss: 36.7649 - val_r_square: 0.1386\n",
            "Epoch 9/50\n",
            "25/25 [==============================] - 0s 7ms/step - loss: 26.1374 - r_square: 0.7072 - val_loss: 10.7242 - val_r_square: 0.7487\n",
            "Epoch 10/50\n",
            "25/25 [==============================] - 0s 5ms/step - loss: 17.3436 - r_square: 0.8057 - val_loss: 13.4739 - val_r_square: 0.6843\n",
            "Epoch 11/50\n",
            "25/25 [==============================] - 0s 6ms/step - loss: 14.7331 - r_square: 0.8349 - val_loss: 12.9737 - val_r_square: 0.6960\n",
            "Epoch 12/50\n",
            "25/25 [==============================] - 0s 5ms/step - loss: 13.7249 - r_square: 0.8462 - val_loss: 116.1952 - val_r_square: -1.7225\n",
            "Epoch 13/50\n",
            "25/25 [==============================] - 0s 6ms/step - loss: 93.9852 - r_square: -0.0529 - val_loss: 12.3197 - val_r_square: 0.7113\n",
            "Epoch 14/50\n",
            "25/25 [==============================] - 0s 6ms/step - loss: 22.4219 - r_square: 0.7488 - val_loss: 17.2022 - val_r_square: 0.5969\n",
            "Epoch 15/50\n",
            "25/25 [==============================] - 0s 7ms/step - loss: 16.5534 - r_square: 0.8146 - val_loss: 279.4925 - val_r_square: -5.5486\n",
            "Epoch 16/50\n",
            "25/25 [==============================] - 0s 6ms/step - loss: 53.5610 - r_square: 0.4000 - val_loss: 11.3766 - val_r_square: 0.7334\n",
            "Epoch 17/50\n",
            "25/25 [==============================] - 0s 9ms/step - loss: 28.8562 - r_square: 0.6767 - val_loss: 9.4676 - val_r_square: 0.7782\n",
            "Epoch 18/50\n",
            "25/25 [==============================] - 0s 7ms/step - loss: 28.1796 - r_square: 0.6843 - val_loss: 9.3705 - val_r_square: 0.7804\n",
            "Epoch 19/50\n",
            "25/25 [==============================] - 0s 7ms/step - loss: 25.7211 - r_square: 0.7119 - val_loss: 2252.1033 - val_r_square: -51.7676\n",
            "Epoch 20/50\n",
            "25/25 [==============================] - 0s 7ms/step - loss: 130.8167 - r_square: -0.4655 - val_loss: 17.4234 - val_r_square: 0.5918\n",
            "Epoch 21/50\n",
            "25/25 [==============================] - 0s 8ms/step - loss: 25.1221 - r_square: 0.7186 - val_loss: 12.2250 - val_r_square: 0.7136\n",
            "Epoch 22/50\n",
            "25/25 [==============================] - 0s 6ms/step - loss: 18.9193 - r_square: 0.7881 - val_loss: 451.3770 - val_r_square: -9.5759\n",
            "Epoch 23/50\n",
            "25/25 [==============================] - 0s 6ms/step - loss: 77.1206 - r_square: 0.1360 - val_loss: 8.0881 - val_r_square: 0.8105\n",
            "Epoch 24/50\n",
            "25/25 [==============================] - 0s 7ms/step - loss: 22.0722 - r_square: 0.7527 - val_loss: 13.7522 - val_r_square: 0.6778\n",
            "Epoch 25/50\n",
            "25/25 [==============================] - 0s 8ms/step - loss: 12.9964 - r_square: 0.8544 - val_loss: 49.9652 - val_r_square: -0.1707\n",
            "Epoch 26/50\n",
            "25/25 [==============================] - 0s 9ms/step - loss: 30.8922 - r_square: 0.6539 - val_loss: 9.0927 - val_r_square: 0.7870\n",
            "Epoch 27/50\n",
            "25/25 [==============================] - 0s 12ms/step - loss: 12.3006 - r_square: 0.8622 - val_loss: 10.7893 - val_r_square: 0.7472\n",
            "Epoch 28/50\n",
            "25/25 [==============================] - 0s 10ms/step - loss: 10.6653 - r_square: 0.8805 - val_loss: 8.7205 - val_r_square: 0.7957\n",
            "Epoch 29/50\n",
            "25/25 [==============================] - 0s 10ms/step - loss: 9.5088 - r_square: 0.8935 - val_loss: 6.9806 - val_r_square: 0.8364\n",
            "Epoch 30/50\n",
            "25/25 [==============================] - 0s 9ms/step - loss: 6.9571 - r_square: 0.9221 - val_loss: 5.8373 - val_r_square: 0.8632\n",
            "Epoch 31/50\n",
            "25/25 [==============================] - 0s 9ms/step - loss: 8.7326 - r_square: 0.9022 - val_loss: 70.4069 - val_r_square: -0.6497\n",
            "Epoch 32/50\n",
            "25/25 [==============================] - 0s 10ms/step - loss: 21.7673 - r_square: 0.7561 - val_loss: 5.8508 - val_r_square: 0.8629\n",
            "Epoch 33/50\n",
            "25/25 [==============================] - 0s 10ms/step - loss: 8.6276 - r_square: 0.9033 - val_loss: 38.5763 - val_r_square: 0.0961\n",
            "Epoch 34/50\n",
            "25/25 [==============================] - 0s 9ms/step - loss: 17.2114 - r_square: 0.8072 - val_loss: 6.6204 - val_r_square: 0.8449\n",
            "Epoch 35/50\n",
            "25/25 [==============================] - 0s 10ms/step - loss: 10.3608 - r_square: 0.8839 - val_loss: 6.4208 - val_r_square: 0.8496\n",
            "Epoch 36/50\n",
            "25/25 [==============================] - 0s 13ms/step - loss: 9.3221 - r_square: 0.8956 - val_loss: 11.3601 - val_r_square: 0.7338\n",
            "Epoch 37/50\n",
            "25/25 [==============================] - 0s 11ms/step - loss: 12.4074 - r_square: 0.8610 - val_loss: 5.7667 - val_r_square: 0.8649\n",
            "Epoch 38/50\n",
            "25/25 [==============================] - 0s 14ms/step - loss: 7.3199 - r_square: 0.9180 - val_loss: 151.0287 - val_r_square: -2.5387\n",
            "Epoch 39/50\n",
            "25/25 [==============================] - 0s 11ms/step - loss: 16.3079 - r_square: 0.8173 - val_loss: 51.9044 - val_r_square: -0.2161\n",
            "Epoch 40/50\n",
            "25/25 [==============================] - 0s 8ms/step - loss: 13.1468 - r_square: 0.8527 - val_loss: 10.7852 - val_r_square: 0.7473\n",
            "Epoch 41/50\n",
            "25/25 [==============================] - 0s 9ms/step - loss: 7.7582 - r_square: 0.9131 - val_loss: 7.0531 - val_r_square: 0.8347\n",
            "Epoch 42/50\n",
            "25/25 [==============================] - 0s 11ms/step - loss: 7.3727 - r_square: 0.9174 - val_loss: 6.7530 - val_r_square: 0.8418\n",
            "Epoch 43/50\n",
            "25/25 [==============================] - 0s 9ms/step - loss: 5.6048 - r_square: 0.9372 - val_loss: 20.0252 - val_r_square: 0.5308\n",
            "Epoch 44/50\n",
            "25/25 [==============================] - 0s 9ms/step - loss: 9.7659 - r_square: 0.8906 - val_loss: 6.1399 - val_r_square: 0.8561\n",
            "Epoch 45/50\n",
            "25/25 [==============================] - 0s 10ms/step - loss: 6.5557 - r_square: 0.9266 - val_loss: 8.3689 - val_r_square: 0.8039\n",
            "Epoch 46/50\n",
            "25/25 [==============================] - 0s 9ms/step - loss: 5.4167 - r_square: 0.9393 - val_loss: 7.2849 - val_r_square: 0.8293\n",
            "Epoch 47/50\n",
            "25/25 [==============================] - 0s 11ms/step - loss: 5.0897 - r_square: 0.9430 - val_loss: 6.3839 - val_r_square: 0.8504\n",
            "Epoch 48/50\n",
            "25/25 [==============================] - 0s 10ms/step - loss: 5.0971 - r_square: 0.9429 - val_loss: 7.8548 - val_r_square: 0.8160\n",
            "Epoch 49/50\n",
            "25/25 [==============================] - 0s 10ms/step - loss: 5.6801 - r_square: 0.9364 - val_loss: 13.1462 - val_r_square: 0.6920\n",
            "Epoch 50/50\n",
            "25/25 [==============================] - 0s 10ms/step - loss: 6.2875 - r_square: 0.9296 - val_loss: 12.6953 - val_r_square: 0.7025\n",
            "------------------------------------------------------------------------------------------------------------------------\n",
            "4/4 [==============================] - 0s 7ms/step - loss: 14.9919 - r_square: 0.8199\n",
            "MSE: 14.991857528686523\n",
            "r2: 0.8199043273925781\n"
          ]
        }
      ]
    },
    {
      "cell_type": "code",
      "source": [
        "history.history #this will show you what was saved in the history variable"
      ],
      "metadata": {
        "id": "N2z5o-vRwBF7",
        "colab": {
          "base_uri": "https://localhost:8080/"
        },
        "outputId": "991b7f88-c170-4498-b84c-084d9f925e72"
      },
      "execution_count": 21,
      "outputs": [
        {
          "output_type": "execute_result",
          "data": {
            "text/plain": [
              "{'loss': [322.36260986328125,\n",
              "  281.0525207519531,\n",
              "  85.8848876953125,\n",
              "  43.34913635253906,\n",
              "  41.19214630126953,\n",
              "  19.3375186920166,\n",
              "  27.21443748474121,\n",
              "  46.277435302734375,\n",
              "  26.13736915588379,\n",
              "  17.343612670898438,\n",
              "  14.733091354370117,\n",
              "  13.724940299987793,\n",
              "  93.9852066040039,\n",
              "  22.4218692779541,\n",
              "  16.553386688232422,\n",
              "  53.56098937988281,\n",
              "  28.856243133544922,\n",
              "  28.179649353027344,\n",
              "  25.721078872680664,\n",
              "  130.816650390625,\n",
              "  25.122081756591797,\n",
              "  18.919261932373047,\n",
              "  77.12064361572266,\n",
              "  22.07219886779785,\n",
              "  12.99636173248291,\n",
              "  30.892187118530273,\n",
              "  12.300637245178223,\n",
              "  10.665254592895508,\n",
              "  9.508811950683594,\n",
              "  6.9571428298950195,\n",
              "  8.732555389404297,\n",
              "  21.767337799072266,\n",
              "  8.627570152282715,\n",
              "  17.21143341064453,\n",
              "  10.360767364501953,\n",
              "  9.32210922241211,\n",
              "  12.407419204711914,\n",
              "  7.319861888885498,\n",
              "  16.30787467956543,\n",
              "  13.146801948547363,\n",
              "  7.75820779800415,\n",
              "  7.372735500335693,\n",
              "  5.6048102378845215,\n",
              "  9.765898704528809,\n",
              "  6.555653095245361,\n",
              "  5.416745185852051,\n",
              "  5.089735507965088,\n",
              "  5.097095012664795,\n",
              "  5.680100917816162,\n",
              "  6.287479400634766],\n",
              " 'r_square': [-2.6113696098327637,\n",
              "  -2.1485848426818848,\n",
              "  0.037846386432647705,\n",
              "  0.5143671035766602,\n",
              "  0.5385314226150513,\n",
              "  0.7833648920059204,\n",
              "  0.6951216459274292,\n",
              "  0.4815616011619568,\n",
              "  0.7071874141693115,\n",
              "  0.8057023882865906,\n",
              "  0.8349475860595703,\n",
              "  0.8462417125701904,\n",
              "  -0.05289959907531738,\n",
              "  0.7488121390342712,\n",
              "  0.8145555257797241,\n",
              "  0.3999660015106201,\n",
              "  0.6767286062240601,\n",
              "  0.6843079328536987,\n",
              "  0.7118510007858276,\n",
              "  -0.465518593788147,\n",
              "  0.7185621857643127,\n",
              "  0.7880508303642273,\n",
              "  0.13603103160858154,\n",
              "  0.7527287006378174,\n",
              "  0.8544041514396667,\n",
              "  0.6539201140403748,\n",
              "  0.8621982336044312,\n",
              "  0.8805192112922668,\n",
              "  0.8934743404388428,\n",
              "  0.9220603108406067,\n",
              "  0.9021708369255066,\n",
              "  0.7561443448066711,\n",
              "  0.9033469557762146,\n",
              "  0.8071833848953247,\n",
              "  0.8839300274848938,\n",
              "  0.8955661654472351,\n",
              "  0.8610020875930786,\n",
              "  0.9179969429969788,\n",
              "  0.8173061609268188,\n",
              "  0.8527187705039978,\n",
              "  0.9130862355232239,\n",
              "  0.9174044728279114,\n",
              "  0.9372103214263916,\n",
              "  0.8905942440032959,\n",
              "  0.9265581965446472,\n",
              "  0.9393171668052673,\n",
              "  0.9429806470870972,\n",
              "  0.9428980946540833,\n",
              "  0.9363669157028198,\n",
              "  0.9295624494552612],\n",
              " 'val_loss': [95.94657897949219,\n",
              "  57.05000305175781,\n",
              "  99.73003387451172,\n",
              "  10.552973747253418,\n",
              "  19.444175720214844,\n",
              "  93.70152282714844,\n",
              "  69.97132110595703,\n",
              "  36.76485061645508,\n",
              "  10.724214553833008,\n",
              "  13.473868370056152,\n",
              "  12.973743438720703,\n",
              "  116.19515991210938,\n",
              "  12.319710731506348,\n",
              "  17.202207565307617,\n",
              "  279.4925231933594,\n",
              "  11.37660026550293,\n",
              "  9.467571258544922,\n",
              "  9.370526313781738,\n",
              "  2252.103271484375,\n",
              "  17.423446655273438,\n",
              "  12.2250394821167,\n",
              "  451.3770446777344,\n",
              "  8.088064193725586,\n",
              "  13.75222110748291,\n",
              "  49.965152740478516,\n",
              "  9.092723846435547,\n",
              "  10.789347648620605,\n",
              "  8.72050666809082,\n",
              "  6.980635643005371,\n",
              "  5.83734655380249,\n",
              "  70.40694427490234,\n",
              "  5.850798606872559,\n",
              "  38.576290130615234,\n",
              "  6.620361328125,\n",
              "  6.420785427093506,\n",
              "  11.360106468200684,\n",
              "  5.766747951507568,\n",
              "  151.02867126464844,\n",
              "  51.90436935424805,\n",
              "  10.785158157348633,\n",
              "  7.0531415939331055,\n",
              "  6.752989292144775,\n",
              "  20.025238037109375,\n",
              "  6.139888286590576,\n",
              "  8.368890762329102,\n",
              "  7.284948348999023,\n",
              "  6.38392972946167,\n",
              "  7.854830265045166,\n",
              "  13.14621353149414,\n",
              "  12.695344924926758],\n",
              " 'val_r_square': [-1.2480645179748535,\n",
              "  -0.33670294284820557,\n",
              "  -1.336712121963501,\n",
              "  0.7527398467063904,\n",
              "  0.5444157123565674,\n",
              "  -1.1954619884490967,\n",
              "  -0.6394543647766113,\n",
              "  0.13858574628829956,\n",
              "  0.7487276196479797,\n",
              "  0.6843022108078003,\n",
              "  0.6960203647613525,\n",
              "  -1.7224962711334229,\n",
              "  0.7113445997238159,\n",
              "  0.5969457626342773,\n",
              "  -5.548614978790283,\n",
              "  0.733441948890686,\n",
              "  0.7781712412834167,\n",
              "  0.7804450392723083,\n",
              "  -51.76762771606445,\n",
              "  0.5917620658874512,\n",
              "  0.7135627269744873,\n",
              "  -9.575933456420898,\n",
              "  0.8104935884475708,\n",
              "  0.677780270576477,\n",
              "  -0.17070233821868896,\n",
              "  0.7869540452957153,\n",
              "  0.7472015619277954,\n",
              "  0.7956752777099609,\n",
              "  0.8364410996437073,\n",
              "  0.8632287979125977,\n",
              "  -0.6496610641479492,\n",
              "  0.8629136085510254,\n",
              "  0.09614300727844238,\n",
              "  0.8448824286460876,\n",
              "  0.8495585918426514,\n",
              "  0.7338284254074097,\n",
              "  0.8648829460144043,\n",
              "  -2.538658618927002,\n",
              "  -0.2161388397216797,\n",
              "  0.7472996711730957,\n",
              "  0.8347422480583191,\n",
              "  0.8417749404907227,\n",
              "  0.5308011174201965,\n",
              "  0.85614013671875,\n",
              "  0.8039137721061707,\n",
              "  0.8293108940124512,\n",
              "  0.8504221439361572,\n",
              "  0.8159583806991577,\n",
              "  0.6919792890548706,\n",
              "  0.7025432586669922]}"
            ]
          },
          "metadata": {},
          "execution_count": 21
        }
      ]
    },
    {
      "cell_type": "code",
      "source": [
        "import pandas\n",
        "#pandas.DataFrame(history.history).plot(figsize=(8,5), title='Boston Housing')\n",
        "#plt.show()\n",
        "\n",
        "import keras\n",
        "from matplotlib import pyplot as plt\n",
        "plt.plot(history.history['loss'])\n",
        "plt.plot(history.history['val_loss'])\n",
        "plt.title('model loss')\n",
        "plt.ylabel('MSE')\n",
        "plt.xlabel('epoch')\n",
        "plt.legend(['train', 'val'])\n",
        "plt.show()"
      ],
      "metadata": {
        "colab": {
          "base_uri": "https://localhost:8080/",
          "height": 295
        },
        "id": "FQC0Yz9wqrb-",
        "outputId": "dac51a4c-670f-4242-f9c5-6629a60faf47"
      },
      "execution_count": 22,
      "outputs": [
        {
          "output_type": "display_data",
          "data": {
            "text/plain": [
              "<Figure size 432x288 with 1 Axes>"
            ],
            "image/png": "[encoded data removed]"
          },
          "metadata": {
            "needs_background": "light"
          }
        }
      ]
    },
    {
      "cell_type": "code",
      "source": [
        "import keras\n",
        "from matplotlib import pyplot as plt\n",
        "plt.plot(history.history['r_square'])\n",
        "plt.plot(history.history['val_r_square'])\n",
        "plt.title('model accuracy')\n",
        "plt.ylabel('R^2')\n",
        "plt.xlabel('epoch')\n",
        "plt.legend(['train', 'val'])\n",
        "plt.show()"
      ],
      "metadata": {
        "colab": {
          "base_uri": "https://localhost:8080/",
          "height": 295
        },
        "id": "7GhwgH-Rp1O1",
        "outputId": "d3338aa5-3d42-41d2-b04f-ea67fa73ef9d"
      },
      "execution_count": 23,
      "outputs": [
        {
          "output_type": "display_data",
          "data": {
            "text/plain": [
              "<Figure size 432x288 with 1 Axes>"
            ],
            "image/png": "[encoded data removed]"
          },
          "metadata": {
            "needs_background": "light"
          }
        }
      ]
    },
    {
      "cell_type": "markdown",
      "source": [
        "# In Class Exercise #2\n",
        "What parameters from the models above do you think you can/should change? \n",
        "\n",
        "\n",
        "Try these\n",
        "- Change the number of neurons in each layer.  \n",
        "- Add a layer to the model.\n",
        "- Change the activation function of the model, [here is the documentation](https://keras.io/api/layers/activations/)\n",
        "- Change the optimizer, [here is the documentation](https://keras.io/api/optimizers/) with a list of options\n",
        "- look at the [metrics](https://keras.io/api/metrics/) try adding another metric."
      ],
      "metadata": {
        "id": "35EulYVbpItw"
      }
    },
    {
      "cell_type": "code",
      "source": [],
      "metadata": {
        "id": "zSHfkbwzpFmh"
      },
      "execution_count": null,
      "outputs": []
    }
  ]
}